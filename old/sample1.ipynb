{
 "cells": [
  {
   "cell_type": "code",
   "execution_count": 77,
   "metadata": {},
   "outputs": [],
   "source": [
    "import math\n",
    "import numpy as np\n",
    "import matplotlib.pyplot as plt\n",
    "from variables import funcion_6, eventos, generate_up, funcion_1"
   ]
  },
  {
   "cell_type": "code",
   "execution_count": 78,
   "metadata": {},
   "outputs": [],
   "source": [
    "eventos_de_daño = eventos(5)    "
   ]
  },
  {
   "cell_type": "code",
   "execution_count": null,
   "metadata": {},
   "outputs": [],
   "source": []
  },
  {
   "cell_type": "code",
   "execution_count": 12,
   "metadata": {},
   "outputs": [],
   "source": [
    "def hola():\n",
    "    d = np.array([generate_up(eventos_de_daño[0])])\n",
    "    \n",
    "    for i in range(1,5):\n",
    "        nuevo = np.array([generate_up(eventos_de_daño[i])])\n",
    "        d = np.c_[d, nuevo]\n",
    "        \n",
    "    return d"
   ]
  },
  {
   "cell_type": "code",
   "execution_count": 67,
   "metadata": {},
   "outputs": [],
   "source": [
    "save = hola()"
   ]
  },
  {
   "cell_type": "code",
   "execution_count": 79,
   "metadata": {},
   "outputs": [
    {
     "data": {
      "text/plain": [
       "[0.4,\n",
       " 0.4,\n",
       " 0.4,\n",
       " 0.4,\n",
       " 0.4,\n",
       " 0.4,\n",
       " 0.4,\n",
       " 0.4,\n",
       " 0.4,\n",
       " 0.4,\n",
       " 0.4,\n",
       " 0.4,\n",
       " 0.4,\n",
       " 0.4,\n",
       " 0.4,\n",
       " 0.4,\n",
       " 0.4,\n",
       " 0.4,\n",
       " 0.4,\n",
       " 0.4,\n",
       " 0.4,\n",
       " 0.4,\n",
       " 0.4,\n",
       " 0.4,\n",
       " 0.4,\n",
       " 0.4,\n",
       " 0.4,\n",
       " 0.4,\n",
       " 0.4,\n",
       " 0.4,\n",
       " 0.4,\n",
       " 0.4,\n",
       " 0.4,\n",
       " 0.4,\n",
       " 0.4,\n",
       " 0.4,\n",
       " 0.4,\n",
       " 0.4,\n",
       " 0.4,\n",
       " 0.4,\n",
       " 0.4,\n",
       " 0.4,\n",
       " 0.4,\n",
       " 0.4,\n",
       " 0.4,\n",
       " 0.4,\n",
       " 0.4,\n",
       " 0.4,\n",
       " 0.4,\n",
       " 0.4,\n",
       " 0.23200000000000004,\n",
       " 0.23200000000000004,\n",
       " 0.23200000000000004,\n",
       " 0.23200000000000004,\n",
       " 0.23200000000000004,\n",
       " 0.23200000000000004,\n",
       " 0.23200000000000004,\n",
       " 0.23200000000000004,\n",
       " 0.23200000000000004,\n",
       " 0.23200000000000004,\n",
       " 0.4,\n",
       " 0.4,\n",
       " 0.4,\n",
       " 0.4,\n",
       " 0.4,\n",
       " 0.4,\n",
       " 0.4,\n",
       " 0.4,\n",
       " 0.4,\n",
       " 0.4,\n",
       " 0.4,\n",
       " 0.4,\n",
       " 0.4,\n",
       " 0.4,\n",
       " 0.4,\n",
       " 0.4,\n",
       " 0.4,\n",
       " 0.4,\n",
       " 0.4,\n",
       " 0.4,\n",
       " 0.4,\n",
       " 0.4,\n",
       " 0.4,\n",
       " 0.4,\n",
       " 0.4,\n",
       " 0.4,\n",
       " 0.4,\n",
       " 0.4,\n",
       " 0.4,\n",
       " 0.4,\n",
       " 0.4,\n",
       " 0.4,\n",
       " 0.4,\n",
       " 0.4,\n",
       " 0.4,\n",
       " 0.4,\n",
       " 0.4,\n",
       " 0.4,\n",
       " 0.4,\n",
       " 0.4,\n",
       " 0.4]"
      ]
     },
     "execution_count": 79,
     "metadata": {},
     "output_type": "execute_result"
    }
   ],
   "source": [
    "eventos_de_daño[1]"
   ]
  },
  {
   "cell_type": "code",
   "execution_count": 15,
   "metadata": {},
   "outputs": [],
   "source": [
    "#h = save.reshape(1,301,5)"
   ]
  },
  {
   "cell_type": "code",
   "execution_count": 23,
   "metadata": {},
   "outputs": [
    {
     "data": {
      "text/plain": [
       "array([[ 0.        ,  0.        ,  0.23864618, ..., -0.05728098,\n",
       "         0.        , -0.06341151]])"
      ]
     },
     "execution_count": 23,
     "metadata": {},
     "output_type": "execute_result"
    }
   ],
   "source": [
    "save[0:301]"
   ]
  },
  {
   "cell_type": "code",
   "execution_count": null,
   "metadata": {},
   "outputs": [],
   "source": []
  },
  {
   "cell_type": "code",
   "execution_count": 40,
   "metadata": {},
   "outputs": [
    {
     "data": {
      "image/png": "[encoded data removed]",
      "text/plain": [
       "<Figure size 1080x360 with 1 Axes>"
      ]
     },
     "metadata": {
      "needs_background": "light"
     },
     "output_type": "display_data"
    }
   ],
   "source": [
    "import matplotlib.pyplot as plt\n",
    "\n",
    "vec = save[0][301:602]\n",
    "\n",
    "vec.reshape(301,1)\n",
    "up = vec\n",
    "up_modificado = np.zeros((150,1))\n",
    "\n",
    "for j in range(0, int(300), 2):\n",
    "    up_modificado[int(j/2)] = up[j]\n",
    "\n",
    "t = np.arange(0., 150., 1)\n",
    "\n",
    "\n",
    "\n",
    "plt.figure(figsize=(15,5))\n",
    "plt.plot(t,up_modificado , 'r--', c=\"r\", label=\"$up_{0,j}$\")\n",
    "\n",
    "plt.legend( prop={'size': 12})\n",
    "plt.title(f\"Evento Nº:\")\n",
    "plt.show()"
   ]
  },
  {
   "cell_type": "code",
   "execution_count": 55,
   "metadata": {},
   "outputs": [
    {
     "data": {
      "text/plain": [
       "array([-0.04615547])"
      ]
     },
     "execution_count": 55,
     "metadata": {},
     "output_type": "execute_result"
    }
   ],
   "source": [
    "up_modificado[73]"
   ]
  },
  {
   "cell_type": "code",
   "execution_count": 48,
   "metadata": {},
   "outputs": [
    {
     "data": {
      "text/plain": [
       "-0.015585979151774234"
      ]
     },
     "execution_count": 48,
     "metadata": {},
     "output_type": "execute_result"
    }
   ],
   "source": [
    "save[0][301:602][300]"
   ]
  },
  {
   "cell_type": "code",
   "execution_count": 81,
   "metadata": {},
   "outputs": [
    {
     "data": {
      "text/plain": [
       "[30.0,\n",
       " 30.0,\n",
       " 30.0,\n",
       " 30.0,\n",
       " 30.0,\n",
       " 30.0,\n",
       " 30.0,\n",
       " 30.0,\n",
       " 30.0,\n",
       " 30.0,\n",
       " 30.0,\n",
       " 30.0,\n",
       " 30.0,\n",
       " 30.0,\n",
       " 30.0,\n",
       " 30.0,\n",
       " 30.0,\n",
       " 30.0,\n",
       " 30.0,\n",
       " 30.0,\n",
       " 30.0,\n",
       " 30.0,\n",
       " 30.0,\n",
       " 30.0,\n",
       " 30.0,\n",
       " 30.0,\n",
       " 30.0,\n",
       " 30.0,\n",
       " 30.0,\n",
       " 30.0,\n",
       " 30.0,\n",
       " 30.0,\n",
       " 30.0,\n",
       " 30.0,\n",
       " 30.0,\n",
       " 30.0,\n",
       " 30.0,\n",
       " 30.0,\n",
       " 30.0,\n",
       " 30.0,\n",
       " 30.0,\n",
       " 30.0,\n",
       " 30.0,\n",
       " 30.0,\n",
       " 30.0,\n",
       " 30.0,\n",
       " 30.0,\n",
       " 30.0,\n",
       " 30.0,\n",
       " 30.0,\n",
       " 30.0,\n",
       " 30.0,\n",
       " 30.0,\n",
       " 30.0,\n",
       " 30.0,\n",
       " 30.0,\n",
       " 30.0,\n",
       " 30.0,\n",
       " 30.0,\n",
       " 30.0,\n",
       " 30.0,\n",
       " 30.0,\n",
       " 30.0,\n",
       " 30.0,\n",
       " 30.0,\n",
       " 30.0,\n",
       " 30.0,\n",
       " 30.0,\n",
       " 30.0,\n",
       " 30.0,\n",
       " 30.0,\n",
       " 30.0,\n",
       " 30.0,\n",
       " 30.0,\n",
       " 30.0,\n",
       " 30.0,\n",
       " 30.0,\n",
       " 30.0,\n",
       " 30.0,\n",
       " 30.0,\n",
       " 30.0,\n",
       " 30.0,\n",
       " 30.0,\n",
       " 30.0,\n",
       " 30.0,\n",
       " 30.0,\n",
       " 30.0,\n",
       " 30.0,\n",
       " 30.0,\n",
       " 30.0,\n",
       " 30.0,\n",
       " 30.0,\n",
       " 30.0,\n",
       " 30.0,\n",
       " 30.0,\n",
       " 30.0,\n",
       " 30.0,\n",
       " 30.0,\n",
       " 30.0,\n",
       " 30.0,\n",
       " 30.0]"
      ]
     },
     "execution_count": 81,
     "metadata": {},
     "output_type": "execute_result"
    }
   ],
   "source": [
    "funcion_1(eventos_de_daño[1])[3]"
   ]
  },
  {
   "cell_type": "code",
   "execution_count": 80,
   "metadata": {},
   "outputs": [
    {
     "name": "stdout",
     "output_type": "stream",
     "text": [
      "50\n",
      "50\n",
      "50\n",
      "50\n",
      "50\n",
      "50\n",
      "50\n",
      "50\n",
      "50\n",
      "50\n"
     ]
    }
   ],
   "source": [
    "count = 0\n",
    "for i in eventos_de_daño[1]:\n",
    "    if i == 0.4:\n",
    "        count+=1\n",
    "    elif i != 0.4:\n",
    "        \n",
    "        print(count)"
   ]
  },
  {
   "cell_type": "code",
   "execution_count": 60,
   "metadata": {},
   "outputs": [
    {
     "data": {
      "text/plain": [
       "array([ 0.        ,  0.        ,  0.23864618,  0.        ,  0.47694821,\n",
       "        0.        ,  0.57271826,  0.        ,  0.57086351,  0.        ,\n",
       "        0.56818935,  0.        ,  0.56470155,  0.        ,  0.56040764,\n",
       "        0.        ,  0.55531688,  0.        ,  0.54944025,  0.        ,\n",
       "        0.54279041,  0.        ,  0.5353817 ,  0.        ,  0.52723004,\n",
       "        0.        ,  0.51835297,  0.        ,  0.50876956,  0.        ,\n",
       "        0.36336859,  0.        ,  0.11398434,  0.        , -0.09717134,\n",
       "        0.        , -0.10780221,  0.        , -0.11820163,  0.        ,\n",
       "       -0.12834749,  0.        , -0.13821829,  0.        , -0.14779319,\n",
       "        0.        , -0.15705206,  0.        , -0.1659755 ,  0.        ,\n",
       "       -0.17454493,  0.        , -0.18274263,  0.        , -0.19055173,\n",
       "        0.        , -0.19795632,  0.        , -0.20494141,  0.        ,\n",
       "       -0.21149306,  0.        , -0.21759831,  0.        , -0.22324529,\n",
       "        0.        , -0.22842321,  0.        , -0.23312238,  0.        ,\n",
       "       -0.23733425,  0.        , -0.24105142,  0.        , -0.24426765,\n",
       "        0.        , -0.24697788,  0.        , -0.24917825,  0.        ,\n",
       "       -0.19049873,  0.        , -0.13463077,  0.        , -0.11717456,\n",
       "        0.        , -0.12441851,  0.        , -0.13034579,  0.        ,\n",
       "       -0.1349393 ,  0.        , -0.13823182,  0.        , -0.14027324,\n",
       "        0.        , -0.14111865,  0.        , -0.14082492,  0.        ,\n",
       "       -0.13945066,  0.        , -0.13705303,  0.        , -0.13369014,\n",
       "        0.        , -0.12942131,  0.        , -0.15848898,  0.        ,\n",
       "       -0.21107186,  0.        , -0.25006524,  0.        , -0.2354029 ,\n",
       "        0.        , -0.22090878,  0.        , -0.20669505,  0.        ,\n",
       "       -0.19280453,  0.        , -0.17925501,  0.        , -0.16605716,\n",
       "        0.        , -0.15321969,  0.        , -0.14075003,  0.        ,\n",
       "       -0.1286559 ,  0.        , -0.11694498,  0.        , -0.10562439,\n",
       "        0.        , -0.09469911,  0.        , -0.0841743 ,  0.        ,\n",
       "       -0.07405434,  0.        , -0.06434284,  0.        , -0.05504256,\n",
       "        0.        , -0.04615547,  0.        , -0.03768267,  0.        ,\n",
       "       -0.02962442,  0.        , -0.02198014,  0.        , -0.01474843,\n",
       "        0.        , -0.00792705,  0.        ,  0.00612223,  0.        ,\n",
       "        0.01893783,  0.        ,  0.02609004,  0.        ,  0.02963316,\n",
       "        0.        ,  0.03305627,  0.        ,  0.03635842,  0.        ,\n",
       "        0.03952765,  0.        ,  0.04254984,  0.        ,  0.04541195,\n",
       "        0.        ,  0.04810273,  0.        ,  0.05061265,  0.        ,\n",
       "        0.05293457,  0.        ,  0.05506294,  0.        ,  0.05699364,\n",
       "        0.        ,  0.05440061,  0.        ,  0.04876431,  0.        ,\n",
       "        0.04492431,  0.        ,  0.0478212 ,  0.        ,  0.05025582,\n",
       "        0.        ,  0.05223089,  0.        ,  0.05376733,  0.        ,\n",
       "        0.05489371,  0.        ,  0.05563515,  0.        ,  0.05601819,\n",
       "        0.        ,  0.05607027,  0.        ,  0.05581766,  0.        ,\n",
       "        0.05528459,  0.        ,  0.05449451,  0.        ,  0.05347039,\n",
       "        0.        ,  0.05223408,  0.        ,  0.05080659,  0.        ,\n",
       "        0.04920805,  0.        ,  0.04745779,  0.        ,  0.04557428,\n",
       "        0.        ,  0.04357519,  0.        ,  0.04147636,  0.        ,\n",
       "        0.03929455,  0.        ,  0.03704619,  0.        ,  0.03474657,\n",
       "        0.        ,  0.03337283,  0.        ,  0.03181564,  0.        ,\n",
       "        0.02953769,  0.        ,  0.02685132,  0.        ,  0.02423156,\n",
       "        0.        ,  0.02168425,  0.        ,  0.01921255,  0.        ,\n",
       "        0.01681875,  0.        ,  0.01450493,  0.        ,  0.0122731 ,\n",
       "        0.        ,  0.01012513,  0.        ,  0.0080629 ,  0.        ,\n",
       "        0.00608816,  0.        ,  0.00420245,  0.        ,  0.00186029,\n",
       "        0.        , -0.0007204 ,  0.        , -0.00291056,  0.        ,\n",
       "       -0.00410426,  0.        , -0.00526369,  0.        , -0.00638608,\n",
       "        0.        , -0.00746572,  0.        , -0.00849611,  0.        ,\n",
       "       -0.00947242,  0.        , -0.01039013,  0.        , -0.01124508,\n",
       "        0.        , -0.01203396,  0.        , -0.01275447,  0.        ,\n",
       "       -0.01340493,  0.        , -0.0139842 ,  0.        , -0.01449175,\n",
       "        0.        , -0.01492754,  0.        , -0.01529202,  0.        ,\n",
       "       -0.01558598])"
      ]
     },
     "execution_count": 60,
     "metadata": {},
     "output_type": "execute_result"
    }
   ],
   "source": [
    "save[0][301:602]"
   ]
  },
  {
   "cell_type": "code",
   "execution_count": 84,
   "metadata": {},
   "outputs": [],
   "source": [
    "u = [0.4 for i in range(0,101)]\n",
    "g = generate_up(u)"
   ]
  },
  {
   "cell_type": "code",
   "execution_count": 85,
   "metadata": {},
   "outputs": [
    {
     "data": {
      "image/png": "[encoded data removed]",
      "text/plain": [
       "<Figure size 1080x360 with 1 Axes>"
      ]
     },
     "metadata": {
      "needs_background": "light"
     },
     "output_type": "display_data"
    }
   ],
   "source": [
    "import matplotlib.pyplot as plt\n",
    "\n",
    "vec = g\n",
    "\n",
    "vec.reshape(301,1)\n",
    "up = vec\n",
    "up_modificado = np.zeros((150,1))\n",
    "\n",
    "for j in range(0, int(300), 2):\n",
    "    up_modificado[int(j/2)] = up[j]\n",
    "\n",
    "t = np.arange(0., 150., 1)\n",
    "\n",
    "\n",
    "\n",
    "plt.figure(figsize=(15,5))\n",
    "plt.plot(t,up_modificado , 'r--', c=\"r\", label=\"$up_{0,j}$\")\n",
    "\n",
    "plt.legend( prop={'size': 12})\n",
    "plt.title(f\"Evento Nº:\")\n",
    "plt.show()"
   ]
  },
  {
   "cell_type": "code",
   "execution_count": null,
   "metadata": {},
   "outputs": [],
   "source": []
  }
 ],
 "metadata": {
  "kernelspec": {
   "display_name": "Python 3",
   "language": "python",
   "name": "python3"
  },
  "language_info": {
   "codemirror_mode": {
    "name": "ipython",
    "version": 3
   },
   "file_extension": ".py",
   "mimetype": "text/x-python",
   "name": "python",
   "nbconvert_exporter": "python",
   "pygments_lexer": "ipython3",
   "version": "3.7.7"
  }
 },
 "nbformat": 4,
 "nbformat_minor": 4
}
