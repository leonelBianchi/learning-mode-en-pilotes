{
 "cells": [
  {
   "cell_type": "code",
   "execution_count": 1,
   "metadata": {},
   "outputs": [],
   "source": [
    "import math\n",
    "import numpy as np\n",
    "import matplotlib.pyplot as plt"
   ]
  },
  {
   "cell_type": "code",
   "execution_count": 2,
   "metadata": {},
   "outputs": [],
   "source": [
    "Gamma = 2400 # Kg/m^3\n",
    "E = 20000000000 # Modulo de elasticidad en Pa\n",
    "Vp = math.sqrt(E/Gamma) # Velocidad de ondas de corte s^(-1)*m\n",
    "Vs = 500 # Velocidad de propagación de las ondas de corte en el terreno(m/s)\n",
    "L = 6 # Longitud del pilote (m)\n",
    "k = 40*10*(100**3) #Rigidez a la fricción del suelo(N/m^3)\n",
    "c = 0.01*10*(100*3) #Coeficiente de amortiguamiento del suelo (N*sec/m^3)\n",
    "K = (50*E*math.pi*(0.4**2)*Vs)/(4*L*Vp) # Rigidez de la punta del pilote(N/m)\n",
    "C = K*0.026*L/Vs # Coeficiente de amortiguamiento de la punta del pilote(N/(m*s^(-1)))\n",
    "\n",
    "\n",
    "n_L = 100 # numero de segnmentos del pilote\n",
    "c_sigma = math.sqrt(E/Gamma) # velocidad de onda de tension en m/s\n",
    "Delta_x = L/n_L # longitud del segmento\n",
    "Delta_t = Delta_x/c_sigma\n",
    "n_p = 3*(L/c_sigma)*(1/Delta_t)\n",
    "\n",
    "u = np.zeros((n_L+1, int(n_p)+1))\n",
    "up = np.zeros((n_L+1, int(n_p)+1))\n",
    "u_prima = np.zeros((n_L+1, int(n_p)+1))\n",
    "\n",
    "I = [0]"
   ]
  },
  {
   "cell_type": "code",
   "execution_count": 3,
   "metadata": {},
   "outputs": [],
   "source": [
    "def p(t):\n",
    "    global res\n",
    "    if t<0.0001:\n",
    "        res = 500000*t/0.0001\n",
    "    elif 0.0001<t<=0.0006:\n",
    "        res = 500000\n",
    "    elif 0.0006<t<=0.0007:\n",
    "        res = 500000*(1-((t-0.0006)/0.0001))\n",
    "    elif t>0.0007:\n",
    "        res = 0\n",
    "    return res "
   ]
  },
  {
   "cell_type": "code",
   "execution_count": 4,
   "metadata": {},
   "outputs": [],
   "source": [
    "import random\n",
    "\n",
    "def diametro():\n",
    "\n",
    "    diam = []\n",
    "    pos = random.randint(0,10)\n",
    "    estriccion = random.randint(40,100)\n",
    "    perturbacion = random.randint(3,8)\n",
    "    lim1 = pos-perturbacion\n",
    "    lim2 = pos+perturbacion\n",
    "    start = 10*pos\n",
    "    end = 10*pos + 10\n",
    "\n",
    "    for i in range(0, 100+1):\n",
    "             \n",
    "        if i in range(start, end):\n",
    "            diam.append(0.4*estriccion/100)\n",
    "        else:\n",
    "            diam.append(0.4)\n",
    "    \n",
    "    return diam\n",
    "\n",
    "def eventos(cantidad_eventos):\n",
    "    \n",
    "    eventos = []\n",
    "    \n",
    "    for j in range(0,cantidad_eventos):\n",
    "        daño = diametro()\n",
    "        eventos.append(daño)\n",
    "    \n",
    "    return eventos"
   ]
  },
  {
   "cell_type": "code",
   "execution_count": 5,
   "metadata": {},
   "outputs": [],
   "source": [
    "def funcion_1(phi):\n",
    "    xi = [round(i*Delta_x, 5) for i in range(0,n_L+1)]\n",
    "    fii = phi\n",
    "    ki = [k for i in range(0,n_L+1)]\n",
    "    ci = [c for i in range(0,n_L+1)]\n",
    "    ai = [math.sqrt(Gamma*E)*(fii[i]**2) for i in range(0,n_L+1)]\n",
    "    bi = [Gamma*(fii[i]**2) for i in range(0,n_L+1)]\n",
    "    fi_prima = [(fii[i+1]-fii[i])/(xi[i+1]-xi[i]) for i in range(0,n_L)]\n",
    "    fi_prima.insert(n_L+1,0)\n",
    "    \n",
    "    return xi, fii, ki, ci, ai, bi, fi_prima"
   ]
  },
  {
   "cell_type": "code",
   "execution_count": 6,
   "metadata": {},
   "outputs": [],
   "source": [
    "from numpy.linalg import det, inv\n",
    "\n",
    "def funcion_2(phi):\n",
    "    \n",
    "    xi, fii, ki, ci, ai, bi, fi_prima = funcion_1(phi)\n",
    "    \n",
    "    for i in range(1, n_L):\n",
    "        a11 = ai[i-1]+ai[i]+2*E*fii[i]*fi_prima[i]*Delta_t\n",
    "        a12 = -(bi[i-1]+bi[i])-4*ci[i]*fii[i]*Delta_t\n",
    "        a13 = -4*ki[i]*fii[i]*Delta_t\n",
    "        a21 = -(ai[i-1] + ai[i]) + 2*E*fii[i]*fi_prima[i]*Delta_t\n",
    "        a22 = -(bi[i] + bi[i+1])-4*ci[i]*fii[i]*Delta_t\n",
    "        a23 = a13\n",
    "        a31 = 0\n",
    "        a32 = -Delta_t/2\n",
    "        a33 = 1\n",
    "\n",
    "        matrix = inv([[a11, a12, a13], [a21, a22, a23], [a31, a32, a33]])\n",
    "        I.append(matrix)\n",
    "    \n",
    "    return I"
   ]
  },
  {
   "cell_type": "code",
   "execution_count": 7,
   "metadata": {},
   "outputs": [],
   "source": [
    "def funcion_3(phi):\n",
    "    \n",
    "    xi, fii, ki, ci, ai, bi, fi_prima = funcion_1(phi)\n",
    "    \n",
    "    a210 = -(ai[0]+ai[1])\n",
    "    a220 = -(bi[0]+bi[1])\n",
    "\n",
    "    I0 = inv([[(1-(4*(ci[0]*fii[0]/a220)*Delta_t)), -(4*(ki[0]*fii[0]/a220)*Delta_t)],\n",
    "              [-Delta_t/2, 1]])\n",
    "    \n",
    "    return a210, a220, I0"
   ]
  },
  {
   "cell_type": "code",
   "execution_count": 8,
   "metadata": {},
   "outputs": [],
   "source": [
    "def funcion_4(phi):\n",
    "    \n",
    "    xi, fii, ki, ci, ai, bi, fi_prima = funcion_1(phi)\n",
    "\n",
    "    a11 = ai[n_L-1]+ai[n_L]+2*E*fii[n_L]*fi_prima[n_L]*Delta_t\n",
    "    a12 = -(bi[n_L-1]+bi[n_L])-4*ci[n_L]*fii[n_L]*Delta_t\n",
    "    a13 = -4*ki[n_L]*fii[n_L]*Delta_t\n",
    "    a21 = ((math.pi)/4)*((fii[n_L])**2)*E\n",
    "    a22 = C\n",
    "    a23 = K\n",
    "    a31 = -Delta_x/2\n",
    "    a32 = -Delta_t/2\n",
    "    a33 = 1\n",
    "\n",
    "    In = inv([[a11, a12, a13], [a21, a22, a23], [a31, a32, a33]])\n",
    "\n",
    "    return In"
   ]
  },
  {
   "cell_type": "code",
   "execution_count": 9,
   "metadata": {},
   "outputs": [],
   "source": [
    "def e(x, u, u_prima, up, phi):\n",
    "    \n",
    "    xi, fii, ki, ci, ai, bi, fi_prima = funcion_1(phi)\n",
    "    \n",
    "    e = (2*E*fii[x]*fi_prima[x]*u_prima)-(4*ci[x]*fii[x]*up)-(4*ki[x]*fii[x]*u) \n",
    "    return e"
   ]
  },
  {
   "cell_type": "code",
   "execution_count": 10,
   "metadata": {},
   "outputs": [],
   "source": [
    "def funcion_5(phi):\n",
    "    \n",
    "    xi, fii, ki, ci, ai, bi, fi_prima = funcion_1(phi)\n",
    "\n",
    "    for j in range(0, int(n_p)+1):\n",
    "\n",
    "        c = j*Delta_t\n",
    "        u_prima[0][j] = -4*(p((c)))/(math.pi*E*(fii[0]**2))\n",
    "\n",
    "        for i in range(0, n_L+1):\n",
    "            u[i][j] = 0\n",
    "            up[i][j] = 0\n",
    "\n",
    "            if i != 0:\n",
    "                u_prima[i][j] = 0\n",
    "                \n",
    "    return u_prima, u, up"
   ]
  },
  {
   "cell_type": "code",
   "execution_count": 11,
   "metadata": {},
   "outputs": [],
   "source": [
    "def funcion_6(phi):\n",
    "    \n",
    "    xi, fii, ki, ci, ai, bi, fi_prima = funcion_1(phi)\n",
    "    I = funcion_2(phi)\n",
    "    a210, a220, I0 = funcion_3(phi)    \n",
    "    In = funcion_4(phi)\n",
    "    u_prima, u, up = funcion_5(phi)\n",
    "    \n",
    "    \n",
    "    for j in range(1, int(n_p)+1):\n",
    "        for i in np.arange(int((1+((-1)**(j+1)))/2),\n",
    "                        min(j,n_L+1),\n",
    "                        2):\n",
    "\n",
    "            if i != 0:\n",
    "                eA = e((i-1), u[i-1][j-1], u_prima[i-1][j-1], up[i-1][j-1], phi)\n",
    "\n",
    "            if i != n_L:\n",
    "                eB = e(i+1, u[i+1][j-1], u_prima[i+1][j-1], up[i+1][j-1], phi)\n",
    "\n",
    "            if i == 0:\n",
    "                q4 = up[1][j-1]-(1/a220)*(a210*(u_prima[0][j]-u_prima[1][j-1])+eB*Delta_t)-((2*E*fii[0]*fi_prima[0]*u_prima[0][j]*Delta_t)/a220)\n",
    "                q5 = u[1][j-1]-(Delta_x/2)*(u_prima[0][j]+u_prima[1][j-1])+(Delta_t/2)*up[1][j-1]\n",
    "                up[0][j] = I0[0][0]*q4+I0[0][1]*q5\n",
    "                u[0][j] = I0[1][0]*q4+I0[1][1]*q5\n",
    "\n",
    "\n",
    "            if i == n_L:\n",
    "                q1 = (ai[i-1]+ai[i])*u_prima[i-1][j-1]-(bi[i-1]+bi[i])*up[i-1][j-1]-eA*Delta_t\n",
    "                q2 = 0\n",
    "                q3 = u[i-1][j-1]+(Delta_x/2)*u_prima[i-1][j-1]+(Delta_t/2)*up[i-1][j-1]\n",
    "                u_prima[i][j] = In[0][0]*q1+In[0][1]*q2+In[0][2]*q3\n",
    "                up[i][j] = In[1][0]*q1+In[1][1]*q2+In[1][2]*q3\n",
    "                u[i][j] = In[2][0]*q1+In[2][1]*q2+In[2][2]*q3\n",
    "\n",
    "            if i != 0 and i != n_L:\n",
    "                q1 = (ai[i-1]+ai[i])*u_prima[i-1][j-1]-(bi[i-1]+bi[i])*up[i-1][j-1]-eA*Delta_t\n",
    "                q2 = -(ai[i]+ai[i+1])*u_prima[i+1][j-1]-(bi[i]+bi[i+1])*up[i+1][j-1]-eB*Delta_t\n",
    "                q3 = ((u[i-1][j-1]+u[i+1][j-1])/2)+(Delta_x/4)*(u_prima[i-1][j-1]-u_prima[i+1][j-1])+(Delta_t/4)*(up[i-1][j-1]+up[i+1][j-1])\n",
    "                u_prima[i][j] = I[i][0][0]*q1+I[i][0][1]*q2+I[i][0][2]*q3\n",
    "                up[i][j] = I[i][1][0]*q1+I[i][1][1]*q2+I[i][1][2]*q3\n",
    "                u[i][j] = I[i][2][0]*q1+I[i][2][1]*q2+I[i][2][2]*q3\n",
    "                \n",
    "    return up"
   ]
  },
  {
   "cell_type": "markdown",
   "metadata": {},
   "source": [
    "# Generating dataset"
   ]
  },
  {
   "cell_type": "markdown",
   "metadata": {},
   "source": [
    "### Functions inputs/outputs"
   ]
  },
  {
   "cell_type": "code",
   "execution_count": 19,
   "metadata": {},
   "outputs": [],
   "source": [
    "def generate_up(vector):\n",
    "        \n",
    "    up = funcion_6(vector)[0]\n",
    "            \n",
    "    return up"
   ]
  },
  {
   "cell_type": "code",
   "execution_count": 20,
   "metadata": {},
   "outputs": [
    {
     "data": {
      "text/plain": [
       "[0.4,\n",
       " 0.4,\n",
       " 0.4,\n",
       " 0.4,\n",
       " 0.4,\n",
       " 0.4,\n",
       " 0.4,\n",
       " 0.4,\n",
       " 0.4,\n",
       " 0.4,\n",
       " 0.4,\n",
       " 0.4,\n",
       " 0.4,\n",
       " 0.4,\n",
       " 0.4,\n",
       " 0.4,\n",
       " 0.4,\n",
       " 0.4,\n",
       " 0.4,\n",
       " 0.4,\n",
       " 0.4,\n",
       " 0.4,\n",
       " 0.4,\n",
       " 0.4,\n",
       " 0.4,\n",
       " 0.4,\n",
       " 0.4,\n",
       " 0.4,\n",
       " 0.4,\n",
       " 0.4,\n",
       " 0.4,\n",
       " 0.4,\n",
       " 0.4,\n",
       " 0.4,\n",
       " 0.4,\n",
       " 0.4,\n",
       " 0.4,\n",
       " 0.4,\n",
       " 0.4,\n",
       " 0.4,\n",
       " 0.4,\n",
       " 0.4,\n",
       " 0.4,\n",
       " 0.4,\n",
       " 0.4,\n",
       " 0.4,\n",
       " 0.4,\n",
       " 0.4,\n",
       " 0.4,\n",
       " 0.4,\n",
       " 0.4,\n",
       " 0.4,\n",
       " 0.4,\n",
       " 0.4,\n",
       " 0.4,\n",
       " 0.4,\n",
       " 0.4,\n",
       " 0.4,\n",
       " 0.4,\n",
       " 0.4,\n",
       " 0.4,\n",
       " 0.4,\n",
       " 0.4,\n",
       " 0.4,\n",
       " 0.4,\n",
       " 0.4,\n",
       " 0.4,\n",
       " 0.4,\n",
       " 0.4,\n",
       " 0.4,\n",
       " 0.4,\n",
       " 0.4,\n",
       " 0.4,\n",
       " 0.4,\n",
       " 0.4,\n",
       " 0.4,\n",
       " 0.4,\n",
       " 0.4,\n",
       " 0.4,\n",
       " 0.4,\n",
       " 0.4,\n",
       " 0.4,\n",
       " 0.4,\n",
       " 0.4,\n",
       " 0.4,\n",
       " 0.4,\n",
       " 0.4,\n",
       " 0.4,\n",
       " 0.4,\n",
       " 0.4,\n",
       " 0.4,\n",
       " 0.4,\n",
       " 0.4,\n",
       " 0.4,\n",
       " 0.4,\n",
       " 0.4,\n",
       " 0.4,\n",
       " 0.4,\n",
       " 0.4,\n",
       " 0.4,\n",
       " 0.4]"
      ]
     },
     "execution_count": 20,
     "metadata": {},
     "output_type": "execute_result"
    }
   ],
   "source": [
    "g = [0.4 for i in range(0,101)]\n",
    "generate_up(g)"
   ]
  },
  {
   "cell_type": "code",
   "execution_count": 14,
   "metadata": {},
   "outputs": [
    {
     "data": {
      "text/plain": [
       "0.5"
      ]
     },
     "execution_count": 14,
     "metadata": {},
     "output_type": "execute_result"
    }
   ],
   "source": [
    "g = [0.5 for i in range(0,101)]\n",
    "generate_up(g)"
   ]
  },
  {
   "cell_type": "code",
   "execution_count": 15,
   "metadata": {},
   "outputs": [],
   "source": [
    "eventos_de_daño = eventos(5)    "
   ]
  },
  {
   "cell_type": "code",
   "execution_count": 16,
   "metadata": {},
   "outputs": [],
   "source": [
    "up_records = []"
   ]
  },
  {
   "cell_type": "code",
   "execution_count": 17,
   "metadata": {},
   "outputs": [],
   "source": [
    "for j in range(0,5):\n",
    "    up_records.append(generate_up(eventos_de_daño[j]))"
   ]
  },
  {
   "cell_type": "markdown",
   "metadata": {},
   "source": [
    "### Visualization of each event"
   ]
  },
  {
   "cell_type": "code",
   "execution_count": 18,
   "metadata": {},
   "outputs": [
    {
     "data": {
      "text/plain": [
       "[0.4, 0.4, 0.4, 0.4, 0.21600000000000003]"
      ]
     },
     "execution_count": 18,
     "metadata": {},
     "output_type": "execute_result"
    }
   ],
   "source": [
    "up_records"
   ]
  },
  {
   "cell_type": "code",
   "execution_count": null,
   "metadata": {},
   "outputs": [],
   "source": []
  },
  {
   "cell_type": "code",
   "execution_count": null,
   "metadata": {},
   "outputs": [],
   "source": []
  },
  {
   "cell_type": "code",
   "execution_count": null,
   "metadata": {},
   "outputs": [],
   "source": []
  },
  {
   "cell_type": "code",
   "execution_count": null,
   "metadata": {},
   "outputs": [],
   "source": []
  }
 ],
 "metadata": {
  "kernelspec": {
   "display_name": "Python 3",
   "language": "python",
   "name": "python3"
  },
  "language_info": {
   "codemirror_mode": {
    "name": "ipython",
    "version": 3
   },
   "file_extension": ".py",
   "mimetype": "text/x-python",
   "name": "python",
   "nbconvert_exporter": "python",
   "pygments_lexer": "ipython3",
   "version": "3.7.7"
  }
 },
 "nbformat": 4,
 "nbformat_minor": 4
}
