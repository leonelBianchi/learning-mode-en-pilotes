{
 "cells": [
  {
   "cell_type": "code",
   "execution_count": 1,
   "metadata": {},
   "outputs": [],
   "source": [
    "import math\n",
    "import numpy as np\n",
    "import matplotlib.pyplot as plt\n",
    "from variables import funcion_6, eventos, generate_up, funcion_1"
   ]
  },
  {
   "cell_type": "markdown",
   "metadata": {},
   "source": [
    "## Generacion de eventos de daño\n",
    "\n",
    "Generamos 90 eventos de daño:\n",
    "\n",
    "* El pilote se divide en 10 elementos.\n",
    "* Para cada elemento hay 3 estricciones (35cm, 30cm, 25cm).\n",
    "* Para cada estriccion hay 3 perturbaciones (10cm, 15cm, 20cm).\n",
    "\n",
    "Total = 10 elementos * 3 estricciones * 3 perturbaciones = 90"
   ]
  },
  {
   "cell_type": "markdown",
   "metadata": {},
   "source": [
    "#### Parametros"
   ]
  },
  {
   "cell_type": "code",
   "execution_count": 19,
   "metadata": {},
   "outputs": [],
   "source": [
    "elementos = [i for i in range(0,10)]\n",
    "estricciones = [0.35, 0.30, 0.25]\n",
    "perturbaciones = [0.10, 0.15, 0.20]"
   ]
  },
  {
   "cell_type": "markdown",
   "metadata": {},
   "source": [
    "#### Generacion de 90 eventos"
   ]
  },
  {
   "cell_type": "code",
   "execution_count": 20,
   "metadata": {},
   "outputs": [],
   "source": [
    "casos = np.full((90, 10), 0.4)"
   ]
  },
  {
   "cell_type": "code",
   "execution_count": 22,
   "metadata": {},
   "outputs": [],
   "source": [
    "for evento in range(0,90):\n",
    "    for elemento in elementos:\n",
    "        for estriccion in estricciones:\n",
    "            for perturbacion in perturbaciones:\n",
    "                \n",
    "                casos[evento][elemento] = estriccion"
   ]
  }
 ],
 "metadata": {
  "kernelspec": {
   "display_name": "Python 3",
   "language": "python",
   "name": "python3"
  },
  "language_info": {
   "codemirror_mode": {
    "name": "ipython",
    "version": 3
   },
   "file_extension": ".py",
   "mimetype": "text/x-python",
   "name": "python",
   "nbconvert_exporter": "python",
   "pygments_lexer": "ipython3",
   "version": "3.7.7"
  }
 },
 "nbformat": 4,
 "nbformat_minor": 4
}
