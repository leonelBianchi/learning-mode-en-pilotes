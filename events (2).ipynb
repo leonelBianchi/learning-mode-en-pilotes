{
 "cells": [
  {
   "cell_type": "markdown",
   "metadata": {},
   "source": [
    "### Pilotes"
   ]
  },
  {
   "cell_type": "code",
   "execution_count": 1,
   "metadata": {},
   "outputs": [],
   "source": [
    "import math\n",
    "import numpy as np\n",
    "import matplotlib.pyplot as plt"
   ]
  },
  {
   "cell_type": "markdown",
   "metadata": {},
   "source": [
    "### Datos"
   ]
  },
  {
   "cell_type": "code",
   "execution_count": 2,
   "metadata": {},
   "outputs": [
    {
     "name": "stdout",
     "output_type": "stream",
     "text": [
      "Velocidad de ondas de corte: 2886.75 s^(-1)*m\n",
      "Rigidez de la punta del pilote: 3627598728.468436 N/m\n",
      "Coeficiente de amortiguamiento de la punta del pilote: 1131810.8032821517 N/(m*s^(-1)\n"
     ]
    }
   ],
   "source": [
    "# Datos:\n",
    "Gamma = 2400 # Kg/m^3\n",
    "E = 20000000000 # Modulo de elasticidad en Pa\n",
    "Vp = math.sqrt(E/Gamma) # Velocidad de ondas de corte s^(-1)*m\n",
    "print(f\"Velocidad de ondas de corte: {round(Vp,2)} s^(-1)*m\")\n",
    "Vs = 500 # Velocidad de propagación de las ondas de corte en el terreno(m/s)\n",
    "L = 6 # Longitud del pilote (m)\n",
    "k = 40*10*(100**3) #Rigidez a la fricción del suelo(N/m^3)\n",
    "c = 0.01*10*(100*3) #Coeficiente de amortiguamiento del suelo (N*sec/m^3)\n",
    "phi = 0.40 # Diámetro del pilote(m)\n",
    "K = (50*E*math.pi*(phi**2)*Vs)/(4*L*Vp) # Rigidez de la punta del pilote(N/m)\n",
    "print(f\"Rigidez de la punta del pilote: {K} N/m\")\n",
    "C = K*0.026*L/Vs # Coeficiente de amortiguamiento de la punta del pilote(N/(m*s^(-1)))\n",
    "print(f\"Coeficiente de amortiguamiento de la punta del pilote: {C} N/(m*s^(-1)\")  \n",
    "\n",
    "\n"
   ]
  },
  {
   "cell_type": "markdown",
   "metadata": {},
   "source": [
    "## Función excitación"
   ]
  },
  {
   "cell_type": "code",
   "execution_count": 3,
   "metadata": {},
   "outputs": [],
   "source": [
    "intervalo = np.arange(0,1,0.00001)\n",
    "intervalo = [round(j,5) for j in intervalo]\n",
    "\n",
    "eventos = {}\n",
    "res = 0\n",
    "def p(t):\n",
    "    global res\n",
    "    if t<0.0001:\n",
    "        res = 500000*t/0.0001\n",
    "    elif 0.0001<t<=0.0006:\n",
    "        res = 500000\n",
    "    elif 0.0006<t<=0.0007:\n",
    "        res = 500000*(1-((t-0.0006)/0.0001))\n",
    "    elif t>0.0007:\n",
    "        res = 0\n",
    "    return res  \n"
   ]
  },
  {
   "cell_type": "markdown",
   "metadata": {},
   "source": [
    "## Resolucion numerica por el metodo de las caracteristicas"
   ]
  },
  {
   "cell_type": "code",
   "execution_count": 4,
   "metadata": {
    "scrolled": true
   },
   "outputs": [],
   "source": [
    "def metodo_caracteristicas(phi, k, c):\n",
    "\n",
    "    n_L = 100 # numero de segnmentos del pilote\n",
    "    c_sigma = math.sqrt(E/Gamma) # velocidad de onda de tension en m/s\n",
    "    Delta_x = L/n_L # longitud del segmento\n",
    "    Delta_t = Delta_x/c_sigma\n",
    "    n_p = 3*(L/c_sigma)*(1/Delta_t)\n",
    "\n",
    "    # Funciones:\n",
    "\n",
    "    xi = [round(i*Delta_x, 5) for i in range(0,n_L+1)]\n",
    "    fii = [phi for i in range(0, n_L+1)]\n",
    "    ki = [k for i in range(0,n_L+1)]\n",
    "    ci = [c for i in range(0,n_L+1)]\n",
    "    ai = [math.sqrt(Gamma*E)*(fii[i]**2) for i in range(0,n_L+1)]\n",
    "    bi = [Gamma*(fii[i]**2) for i in range(0,n_L+1)]\n",
    "\n",
    "\n",
    "    fi_prima = [(fii[i+1]-fii[i])/(xi[i+1]-xi[i]) for i in range(0,n_L)]\n",
    "    fi_prima.insert(n_L+1,0)\n",
    "\n",
    "    u = 0\n",
    "    u_prima = 0\n",
    "    up = 0\n",
    "\n",
    "    e = [2*E*fii[i]*fi_prima[i]*u_prima-4*ci[i]*fii[i]*up-4*ki[i]*fii[i]*u for i in range(0,n_L+1)]   \n",
    "\n",
    "    \n",
    "    return n_L, n_p, c_sigma, xi, fii, ki, ci, ai, bi, fi_prima, Delta_x, Delta_t"
   ]
  },
  {
   "cell_type": "markdown",
   "metadata": {},
   "source": [
    "## Matriz de coeficientes para calculo en el tramo del pilote"
   ]
  },
  {
   "cell_type": "code",
   "execution_count": 29,
   "metadata": {},
   "outputs": [],
   "source": [
    "from numpy.linalg import det, inv\n",
    "\n",
    "I = [0]\n",
    "\n",
    "def matriz_coeficientes_tramo(phi, k, c):   \n",
    "    \n",
    "    n_L, n_p, c_sigma, xi, fii, ki, ci, ai, bi, fi_prima, Delta_x, Delta_t = metodo_caracteristicas(phi, k, c)\n",
    "    \n",
    "    for i in range(1, n_L):\n",
    "        a11 = ai[i-1]+ai[i]+2*E*fii[i]*fi_prima[i]*Delta_t\n",
    "        a12 = -(bi[i-1]+bi[i])-4*ci[i]*fii[i]*Delta_t\n",
    "        a13 = -4*ki[i]*fii[i]*Delta_t\n",
    "        a21 = -(ai[i-1] + ai[i]) + 2*E*fii[i]*fi_prima[i]*Delta_t\n",
    "        a22 = -(bi[i] + bi[i+1])-4*ci[i]*fii[i]*Delta_t\n",
    "        a23 = a13\n",
    "        a31 = 0\n",
    "        a32 = -Delta_t/2\n",
    "        a33 = 1\n",
    "\n",
    "        matrix = inv([[a11, a12, a13], [a21, a22, a23], [a31, a32, a33]])\n",
    "\n",
    "        I.append(matrix)\n",
    "        \n",
    "        return I   "
   ]
  },
  {
   "cell_type": "markdown",
   "metadata": {},
   "source": [
    "## Matriz de coeficientes para calculo en la punta del pilote"
   ]
  },
  {
   "cell_type": "code",
   "execution_count": 30,
   "metadata": {},
   "outputs": [],
   "source": [
    "def matriz_coeficientes_punta(phi, k, c):\n",
    "    \n",
    "    n_L, n_p, c_sigma, xi, fii, ki, ci, ai, bi, fi_prima, Delta_x, Delta_t = metodo_caracteristicas(phi, k, c)\n",
    "    \n",
    "    a210 = -(ai[0]+ai[1])\n",
    "    a220 = -(bi[0]+bi[1])\n",
    "\n",
    "    I0 = inv([[(1-(4*(ci[0]*fii[0]/a220)*Delta_t)), -(4*(ki[0]*fii[0]/a220)*Delta_t)],\n",
    "              [-Delta_t/2, 1]])\n",
    "    \n",
    "    return a210, a220, I0\n"
   ]
  },
  {
   "cell_type": "markdown",
   "metadata": {},
   "source": [
    "## Matriz de coeficientes para calculo en la base del pilote"
   ]
  },
  {
   "cell_type": "code",
   "execution_count": 31,
   "metadata": {},
   "outputs": [],
   "source": [
    "def matriz_coeficientes_base(K, C, phi, k, c):\n",
    "    \n",
    "    n_L, n_p, c_sigma, xi, fii, ki, ci, ai, bi, fi_prima, Delta_x, Delta_t = metodo_caracteristicas(phi, k, c)\n",
    "    \n",
    "    a11 = ai[n_L-1]+ai[n_L]+2*E*fii[n_L]*fi_prima[n_L]*Delta_t\n",
    "    a12 = -(bi[n_L-1]+bi[n_L])-4*ci[n_L]*fii[n_L]*Delta_t\n",
    "    a13 = -4*ki[n_L]*fii[n_L]*Delta_t\n",
    "    a21 = ((math.pi)/4)*((fii[n_L])**2)*E\n",
    "    a22 = C\n",
    "    a23 = K\n",
    "    a31 = -Delta_x/2\n",
    "    a32 = -Delta_t/2\n",
    "    a33 = 1\n",
    "\n",
    "    In = inv([[a11, a12, a13], [a21, a22, a23], [a31, a32, a33]])\n",
    "\n",
    "    return In"
   ]
  },
  {
   "cell_type": "markdown",
   "metadata": {},
   "source": [
    "## Integracion numerica"
   ]
  },
  {
   "cell_type": "code",
   "execution_count": 32,
   "metadata": {
    "scrolled": true
   },
   "outputs": [],
   "source": [
    "def e(x, u, u_prima, up):\n",
    "    n_L, n_p, c_sigma, xi, fii, ki, ci, ai, bi, fi_prima, Delta_x, Delta_t = metodo_caracteristicas(phi, k, c)\n",
    "    e = (2*E*fii[x]*fi_prima[x]*u_prima)-(4*ci[x]*fii[x]*up)-(4*ki[x]*fii[x]*u) \n",
    "    return e\n",
    "\n",
    "\n",
    "def integracion_numerica_1(phi, k, c, K, C):\n",
    "\n",
    "    n_L, n_p, c_sigma, xi, fii, ki, ci, ai, bi, fi_prima, Delta_x, Delta_t = metodo_caracteristicas(phi, k, c)\n",
    "    In = matriz_coeficientes_base(K, C, phi, k, c)\n",
    "    a210, a220, I0 = matriz_coeficientes_punta(phi, k, c)\n",
    "    I = matriz_coeficientes_tramo(phi, k, c)\n",
    "    \n",
    "    u = np.zeros((n_L+1, int(n_p)+1))\n",
    "    up = np.zeros((n_L+1, int(n_p)+1))\n",
    "    u_prima = np.zeros((n_L+1, int(n_p)+1))\n",
    "\n",
    "    for j in range(0, int(n_p)+1):\n",
    "\n",
    "        c = j*Delta_t\n",
    "\n",
    "        u_prima[0][j] = -4*(p((c)))/(math.pi*E*(fii[0]**2))\n",
    "\n",
    "        for i in range(0, n_L+1):\n",
    "            u[i][j] = 0\n",
    "            up[i][j] = 0\n",
    "\n",
    "            if i != 0:\n",
    "                u_prima[i][j] = 0\n",
    "        \n",
    "        return u_prima, u, up \n",
    "\n",
    "  \n"
   ]
  },
  {
   "cell_type": "code",
   "execution_count": 33,
   "metadata": {},
   "outputs": [],
   "source": [
    "def integracion_numerica_2(phi, k, c, K, C):\n",
    "\n",
    "    n_L, n_p, c_sigma, xi, fii, ki, ci, ai, bi, fi_prima, Delta_x, Delta_t = metodo_caracteristicas(phi, k, c)\n",
    "    In = matriz_coeficientes_base(K, C, phi, k, c)\n",
    "    a210, a220, I0 = matriz_coeficientes_punta(phi, k, c)\n",
    "    I = matriz_coeficientes_tramo(phi, k, c)\n",
    "    u_prima, u, up = integracion_numerica_1(phi, k, c, K, C)\n",
    "                \n",
    "    for j in range(1, int(n_p)+1):\n",
    "        for i in np.arange(int((1+((-1)**(j+1)))/2),\n",
    "                    min(j,n_L+1),\n",
    "                    2):\n",
    "\n",
    "            if i != 0:\n",
    "                eA = e((i-1), u[i-1][j-1], u_prima[i-1][j-1], up[i-1][j-1])\n",
    "\n",
    "            if i != n_L:\n",
    "                eB = e(i+1, u[i+1][j-1], u_prima[i+1][j-1], up[i+1][j-1])\n",
    "\n",
    "            if i == 0:\n",
    "                q4 = up[1][j-1]-(1/a220)*(a210*(u_prima[0][j]-u_prima[1][j-1])+eB*Delta_t)-((2*E*fii[0]*fi_prima[0]*u_prima[0][j]*Delta_t)/a220)\n",
    "                q5 = u[1][j-1]-(Delta_x/2)*(u_prima[0][j]+u_prima[1][j-1])+(Delta_t/2)*up[1][j-1]\n",
    "                up[0][j] = I0[0][0]*q4+I0[0][1]*q5\n",
    "                u[0][j] = I0[1][0]*q4+I0[1][1]*q5\n",
    "\n",
    "\n",
    "            if i == n_L:\n",
    "                q1 = (ai[i-1]+ai[i])*u_prima[i-1][j-1]-(bi[i-1]+bi[i])*up[i-1][j-1]-eA*Delta_t\n",
    "                q2 = 0\n",
    "                q3 = u[i-1][j-1]+(Delta_x/2)*u_prima[i-1][j-1]+(Delta_t/2)*up[i-1][j-1]\n",
    "                u_prima[i][j] = In[0][0]*q1+In[0][1]*q2+In[0][2]*q3\n",
    "                up[i][j] = In[1][0]*q1+In[1][1]*q2+In[1][2]*q3\n",
    "                u[i][j] = In[2][0]*q1+In[2][1]*q2+In[2][2]*q3\n",
    "\n",
    "            if i != 0 and i != n_L:\n",
    "                q1 = (ai[i-1]+ai[i])*u_prima[i-1][j-1]-(bi[i-1]+bi[i])*up[i-1][j-1]-eA*Delta_t\n",
    "                q2 = -(ai[i]+ai[i+1])*u_prima[i+1][j-1]-(bi[i]+bi[i+1])*up[i+1][j-1]-eB*Delta_t\n",
    "                q3 = ((u[i-1][j-1]+u[i+1][j-1])/2)+(Delta_x/4)*(u_prima[i-1][j-1]-u_prima[i+1][j-1])+(Delta_t/4)*(up[i-1][j-1]+up[i+1][j-1])\n",
    "                u_prima[i][j] = I[i][0][0]*q1+I[i][0][1]*q2+I[i][0][2]*q3\n",
    "                up[i][j] = I[i][1][0]*q1+I[i][1][1]*q2+I[i][1][2]*q3\n",
    "                u[i][j] = I[i][2][0]*q1+I[i][2][1]*q2+I[i][2][2]*q3\n",
    "\n",
    "\n",
    "                \n",
    "            "
   ]
  },
  {
   "cell_type": "markdown",
   "metadata": {},
   "source": [
    "## Plot u´"
   ]
  },
  {
   "cell_type": "code",
   "execution_count": 18,
   "metadata": {},
   "outputs": [
    {
     "ename": "NameError",
     "evalue": "name 'u_prima' is not defined",
     "output_type": "error",
     "traceback": [
      "\u001b[1;31m---------------------------------------------------------------------------\u001b[0m",
      "\u001b[1;31mNameError\u001b[0m                                 Traceback (most recent call last)",
      "\u001b[1;32m<ipython-input-18-f62d9d7468d1>\u001b[0m in \u001b[0;36m<module>\u001b[1;34m\u001b[0m\n\u001b[0;32m      8\u001b[0m \u001b[1;32mfor\u001b[0m \u001b[0mi\u001b[0m \u001b[1;32min\u001b[0m \u001b[0mrange\u001b[0m\u001b[1;33m(\u001b[0m\u001b[1;36m0\u001b[0m\u001b[1;33m,\u001b[0m \u001b[0mn_L\u001b[0m\u001b[1;33m)\u001b[0m\u001b[1;33m:\u001b[0m\u001b[1;33m\u001b[0m\u001b[1;33m\u001b[0m\u001b[0m\n\u001b[0;32m      9\u001b[0m     \u001b[1;32mfor\u001b[0m \u001b[0mj\u001b[0m \u001b[1;32min\u001b[0m \u001b[0mrange\u001b[0m\u001b[1;33m(\u001b[0m\u001b[1;36m0\u001b[0m\u001b[1;33m,\u001b[0m \u001b[0mint\u001b[0m\u001b[1;33m(\u001b[0m\u001b[0mn_p\u001b[0m\u001b[1;33m)\u001b[0m\u001b[1;33m,\u001b[0m \u001b[1;36m2\u001b[0m\u001b[1;33m)\u001b[0m\u001b[1;33m:\u001b[0m\u001b[1;33m\u001b[0m\u001b[1;33m\u001b[0m\u001b[0m\n\u001b[1;32m---> 10\u001b[1;33m         \u001b[0mu2\u001b[0m\u001b[1;33m[\u001b[0m\u001b[0mi\u001b[0m\u001b[1;33m]\u001b[0m\u001b[1;33m[\u001b[0m\u001b[0mint\u001b[0m\u001b[1;33m(\u001b[0m\u001b[0mj\u001b[0m\u001b[1;33m/\u001b[0m\u001b[1;36m2\u001b[0m\u001b[1;33m)\u001b[0m\u001b[1;33m]\u001b[0m \u001b[1;33m=\u001b[0m \u001b[0mu_prima\u001b[0m\u001b[1;33m[\u001b[0m\u001b[0mi\u001b[0m\u001b[1;33m]\u001b[0m\u001b[1;33m[\u001b[0m\u001b[0mj\u001b[0m\u001b[1;33m]\u001b[0m\u001b[1;33m\u001b[0m\u001b[1;33m\u001b[0m\u001b[0m\n\u001b[0m\u001b[0;32m     11\u001b[0m \u001b[1;33m\u001b[0m\u001b[0m\n\u001b[0;32m     12\u001b[0m \u001b[1;33m\u001b[0m\u001b[0m\n",
      "\u001b[1;31mNameError\u001b[0m: name 'u_prima' is not defined"
     ]
    }
   ],
   "source": [
    "import matplotlib.pyplot as plt\n",
    "\n",
    "n_L = 100\n",
    "n_p = 300\n",
    "\n",
    "u2 = np.zeros((100,150))\n",
    "\n",
    "for i in range(0, n_L):\n",
    "    for j in range(0, int(n_p), 2):\n",
    "        u2[i][int(j/2)] = u_prima[i][j]\n",
    "\n",
    "\n",
    "\n",
    "t = np.arange(0., 150., 1)\n",
    "\n",
    "SUB = str.maketrans(\"0123456789\", \"₀₁₂₃₄₅₆₇₈₉\")\n",
    "\n",
    "plt.figure(figsize=(15,5))\n",
    "\n",
    "plt.plot(t,u2[0] , 'r--', c=\"r\", label=\"$u´_{0,j}$\")\n",
    "plt.plot(t,u2[50] , 'b--', c=\"b\", label=\"$u´_{50,j}$\")\n",
    "plt.plot(t,u2[98] , 'g--', c=\"g\", label=\"$u´_{100,j}$\")\n",
    "\n",
    "plt.legend( prop={'size': 12})\n",
    "plt.show()"
   ]
  },
  {
   "cell_type": "markdown",
   "metadata": {},
   "source": [
    "## Plot u"
   ]
  },
  {
   "cell_type": "code",
   "execution_count": null,
   "metadata": {},
   "outputs": [],
   "source": [
    "u3 = np.zeros((100,150))\n",
    "\n",
    "for i in range(0, n_L):\n",
    "    for j in range(0, int(n_p), 2):\n",
    "        u3[i][int(j/2)] = up[i][j]\n",
    "\n",
    "\n",
    "t = np.arange(0., 150., 1)\n",
    "\n",
    "plt.figure(figsize=(15,5))\n",
    "\n",
    "plt.plot(t,u3[0] , 'r--', c=\"r\", label=\"$u_{0,j}$\")\n",
    "plt.plot(t,u3[50] , 'b--', c=\"b\", label=\"$u_{50,j}$\")\n",
    "plt.plot(t,u3[98] , 'g--', c=\"g\", label=\"$u_{100,j}$\")\n",
    "\n",
    "plt.legend( prop={'size': 12})\n",
    "plt.show()"
   ]
  },
  {
   "cell_type": "markdown",
   "metadata": {
    "scrolled": false
   },
   "source": [
    "## Saving datasets"
   ]
  },
  {
   "cell_type": "code",
   "execution_count": 34,
   "metadata": {},
   "outputs": [
    {
     "ename": "IndexError",
     "evalue": "list index out of range",
     "output_type": "error",
     "traceback": [
      "\u001b[1;31m---------------------------------------------------------------------------\u001b[0m",
      "\u001b[1;31mIndexError\u001b[0m                                Traceback (most recent call last)",
      "\u001b[1;32m<ipython-input-34-264fbadbdd55>\u001b[0m in \u001b[0;36m<module>\u001b[1;34m\u001b[0m\n\u001b[1;32m----> 1\u001b[1;33m \u001b[0mintegracion_numerica_2\u001b[0m\u001b[1;33m(\u001b[0m\u001b[1;36m0.4\u001b[0m\u001b[1;33m,\u001b[0m \u001b[1;36m30000\u001b[0m\u001b[1;33m,\u001b[0m \u001b[1;36m250000\u001b[0m\u001b[1;33m,\u001b[0m \u001b[1;36m8\u001b[0m\u001b[1;33m,\u001b[0m \u001b[1;36m9\u001b[0m\u001b[1;33m)\u001b[0m\u001b[1;33m\u001b[0m\u001b[1;33m\u001b[0m\u001b[0m\n\u001b[0m",
      "\u001b[1;32m<ipython-input-33-6c14d18310a4>\u001b[0m in \u001b[0;36mintegracion_numerica_2\u001b[1;34m(phi, k, c, K, C)\u001b[0m\n\u001b[0;32m     37\u001b[0m                 \u001b[0mq2\u001b[0m \u001b[1;33m=\u001b[0m \u001b[1;33m-\u001b[0m\u001b[1;33m(\u001b[0m\u001b[0mai\u001b[0m\u001b[1;33m[\u001b[0m\u001b[0mi\u001b[0m\u001b[1;33m]\u001b[0m\u001b[1;33m+\u001b[0m\u001b[0mai\u001b[0m\u001b[1;33m[\u001b[0m\u001b[0mi\u001b[0m\u001b[1;33m+\u001b[0m\u001b[1;36m1\u001b[0m\u001b[1;33m]\u001b[0m\u001b[1;33m)\u001b[0m\u001b[1;33m*\u001b[0m\u001b[0mu_prima\u001b[0m\u001b[1;33m[\u001b[0m\u001b[0mi\u001b[0m\u001b[1;33m+\u001b[0m\u001b[1;36m1\u001b[0m\u001b[1;33m]\u001b[0m\u001b[1;33m[\u001b[0m\u001b[0mj\u001b[0m\u001b[1;33m-\u001b[0m\u001b[1;36m1\u001b[0m\u001b[1;33m]\u001b[0m\u001b[1;33m-\u001b[0m\u001b[1;33m(\u001b[0m\u001b[0mbi\u001b[0m\u001b[1;33m[\u001b[0m\u001b[0mi\u001b[0m\u001b[1;33m]\u001b[0m\u001b[1;33m+\u001b[0m\u001b[0mbi\u001b[0m\u001b[1;33m[\u001b[0m\u001b[0mi\u001b[0m\u001b[1;33m+\u001b[0m\u001b[1;36m1\u001b[0m\u001b[1;33m]\u001b[0m\u001b[1;33m)\u001b[0m\u001b[1;33m*\u001b[0m\u001b[0mup\u001b[0m\u001b[1;33m[\u001b[0m\u001b[0mi\u001b[0m\u001b[1;33m+\u001b[0m\u001b[1;36m1\u001b[0m\u001b[1;33m]\u001b[0m\u001b[1;33m[\u001b[0m\u001b[0mj\u001b[0m\u001b[1;33m-\u001b[0m\u001b[1;36m1\u001b[0m\u001b[1;33m]\u001b[0m\u001b[1;33m-\u001b[0m\u001b[0meB\u001b[0m\u001b[1;33m*\u001b[0m\u001b[0mDelta_t\u001b[0m\u001b[1;33m\u001b[0m\u001b[1;33m\u001b[0m\u001b[0m\n\u001b[0;32m     38\u001b[0m                 \u001b[0mq3\u001b[0m \u001b[1;33m=\u001b[0m \u001b[1;33m(\u001b[0m\u001b[1;33m(\u001b[0m\u001b[0mu\u001b[0m\u001b[1;33m[\u001b[0m\u001b[0mi\u001b[0m\u001b[1;33m-\u001b[0m\u001b[1;36m1\u001b[0m\u001b[1;33m]\u001b[0m\u001b[1;33m[\u001b[0m\u001b[0mj\u001b[0m\u001b[1;33m-\u001b[0m\u001b[1;36m1\u001b[0m\u001b[1;33m]\u001b[0m\u001b[1;33m+\u001b[0m\u001b[0mu\u001b[0m\u001b[1;33m[\u001b[0m\u001b[0mi\u001b[0m\u001b[1;33m+\u001b[0m\u001b[1;36m1\u001b[0m\u001b[1;33m]\u001b[0m\u001b[1;33m[\u001b[0m\u001b[0mj\u001b[0m\u001b[1;33m-\u001b[0m\u001b[1;36m1\u001b[0m\u001b[1;33m]\u001b[0m\u001b[1;33m)\u001b[0m\u001b[1;33m/\u001b[0m\u001b[1;36m2\u001b[0m\u001b[1;33m)\u001b[0m\u001b[1;33m+\u001b[0m\u001b[1;33m(\u001b[0m\u001b[0mDelta_x\u001b[0m\u001b[1;33m/\u001b[0m\u001b[1;36m4\u001b[0m\u001b[1;33m)\u001b[0m\u001b[1;33m*\u001b[0m\u001b[1;33m(\u001b[0m\u001b[0mu_prima\u001b[0m\u001b[1;33m[\u001b[0m\u001b[0mi\u001b[0m\u001b[1;33m-\u001b[0m\u001b[1;36m1\u001b[0m\u001b[1;33m]\u001b[0m\u001b[1;33m[\u001b[0m\u001b[0mj\u001b[0m\u001b[1;33m-\u001b[0m\u001b[1;36m1\u001b[0m\u001b[1;33m]\u001b[0m\u001b[1;33m-\u001b[0m\u001b[0mu_prima\u001b[0m\u001b[1;33m[\u001b[0m\u001b[0mi\u001b[0m\u001b[1;33m+\u001b[0m\u001b[1;36m1\u001b[0m\u001b[1;33m]\u001b[0m\u001b[1;33m[\u001b[0m\u001b[0mj\u001b[0m\u001b[1;33m-\u001b[0m\u001b[1;36m1\u001b[0m\u001b[1;33m]\u001b[0m\u001b[1;33m)\u001b[0m\u001b[1;33m+\u001b[0m\u001b[1;33m(\u001b[0m\u001b[0mDelta_t\u001b[0m\u001b[1;33m/\u001b[0m\u001b[1;36m4\u001b[0m\u001b[1;33m)\u001b[0m\u001b[1;33m*\u001b[0m\u001b[1;33m(\u001b[0m\u001b[0mup\u001b[0m\u001b[1;33m[\u001b[0m\u001b[0mi\u001b[0m\u001b[1;33m-\u001b[0m\u001b[1;36m1\u001b[0m\u001b[1;33m]\u001b[0m\u001b[1;33m[\u001b[0m\u001b[0mj\u001b[0m\u001b[1;33m-\u001b[0m\u001b[1;36m1\u001b[0m\u001b[1;33m]\u001b[0m\u001b[1;33m+\u001b[0m\u001b[0mup\u001b[0m\u001b[1;33m[\u001b[0m\u001b[0mi\u001b[0m\u001b[1;33m+\u001b[0m\u001b[1;36m1\u001b[0m\u001b[1;33m]\u001b[0m\u001b[1;33m[\u001b[0m\u001b[0mj\u001b[0m\u001b[1;33m-\u001b[0m\u001b[1;36m1\u001b[0m\u001b[1;33m]\u001b[0m\u001b[1;33m)\u001b[0m\u001b[1;33m\u001b[0m\u001b[1;33m\u001b[0m\u001b[0m\n\u001b[1;32m---> 39\u001b[1;33m                 \u001b[0mu_prima\u001b[0m\u001b[1;33m[\u001b[0m\u001b[0mi\u001b[0m\u001b[1;33m]\u001b[0m\u001b[1;33m[\u001b[0m\u001b[0mj\u001b[0m\u001b[1;33m]\u001b[0m \u001b[1;33m=\u001b[0m \u001b[0mI\u001b[0m\u001b[1;33m[\u001b[0m\u001b[0mi\u001b[0m\u001b[1;33m]\u001b[0m\u001b[1;33m[\u001b[0m\u001b[1;36m0\u001b[0m\u001b[1;33m]\u001b[0m\u001b[1;33m[\u001b[0m\u001b[1;36m0\u001b[0m\u001b[1;33m]\u001b[0m\u001b[1;33m*\u001b[0m\u001b[0mq1\u001b[0m\u001b[1;33m+\u001b[0m\u001b[0mI\u001b[0m\u001b[1;33m[\u001b[0m\u001b[0mi\u001b[0m\u001b[1;33m]\u001b[0m\u001b[1;33m[\u001b[0m\u001b[1;36m0\u001b[0m\u001b[1;33m]\u001b[0m\u001b[1;33m[\u001b[0m\u001b[1;36m1\u001b[0m\u001b[1;33m]\u001b[0m\u001b[1;33m*\u001b[0m\u001b[0mq2\u001b[0m\u001b[1;33m+\u001b[0m\u001b[0mI\u001b[0m\u001b[1;33m[\u001b[0m\u001b[0mi\u001b[0m\u001b[1;33m]\u001b[0m\u001b[1;33m[\u001b[0m\u001b[1;36m0\u001b[0m\u001b[1;33m]\u001b[0m\u001b[1;33m[\u001b[0m\u001b[1;36m2\u001b[0m\u001b[1;33m]\u001b[0m\u001b[1;33m*\u001b[0m\u001b[0mq3\u001b[0m\u001b[1;33m\u001b[0m\u001b[1;33m\u001b[0m\u001b[0m\n\u001b[0m\u001b[0;32m     40\u001b[0m                 \u001b[0mup\u001b[0m\u001b[1;33m[\u001b[0m\u001b[0mi\u001b[0m\u001b[1;33m]\u001b[0m\u001b[1;33m[\u001b[0m\u001b[0mj\u001b[0m\u001b[1;33m]\u001b[0m \u001b[1;33m=\u001b[0m \u001b[0mI\u001b[0m\u001b[1;33m[\u001b[0m\u001b[0mi\u001b[0m\u001b[1;33m]\u001b[0m\u001b[1;33m[\u001b[0m\u001b[1;36m1\u001b[0m\u001b[1;33m]\u001b[0m\u001b[1;33m[\u001b[0m\u001b[1;36m0\u001b[0m\u001b[1;33m]\u001b[0m\u001b[1;33m*\u001b[0m\u001b[0mq1\u001b[0m\u001b[1;33m+\u001b[0m\u001b[0mI\u001b[0m\u001b[1;33m[\u001b[0m\u001b[0mi\u001b[0m\u001b[1;33m]\u001b[0m\u001b[1;33m[\u001b[0m\u001b[1;36m1\u001b[0m\u001b[1;33m]\u001b[0m\u001b[1;33m[\u001b[0m\u001b[1;36m1\u001b[0m\u001b[1;33m]\u001b[0m\u001b[1;33m*\u001b[0m\u001b[0mq2\u001b[0m\u001b[1;33m+\u001b[0m\u001b[0mI\u001b[0m\u001b[1;33m[\u001b[0m\u001b[0mi\u001b[0m\u001b[1;33m]\u001b[0m\u001b[1;33m[\u001b[0m\u001b[1;36m1\u001b[0m\u001b[1;33m]\u001b[0m\u001b[1;33m[\u001b[0m\u001b[1;36m2\u001b[0m\u001b[1;33m]\u001b[0m\u001b[1;33m*\u001b[0m\u001b[0mq3\u001b[0m\u001b[1;33m\u001b[0m\u001b[1;33m\u001b[0m\u001b[0m\n\u001b[0;32m     41\u001b[0m                 \u001b[0mu\u001b[0m\u001b[1;33m[\u001b[0m\u001b[0mi\u001b[0m\u001b[1;33m]\u001b[0m\u001b[1;33m[\u001b[0m\u001b[0mj\u001b[0m\u001b[1;33m]\u001b[0m \u001b[1;33m=\u001b[0m \u001b[0mI\u001b[0m\u001b[1;33m[\u001b[0m\u001b[0mi\u001b[0m\u001b[1;33m]\u001b[0m\u001b[1;33m[\u001b[0m\u001b[1;36m2\u001b[0m\u001b[1;33m]\u001b[0m\u001b[1;33m[\u001b[0m\u001b[1;36m0\u001b[0m\u001b[1;33m]\u001b[0m\u001b[1;33m*\u001b[0m\u001b[0mq1\u001b[0m\u001b[1;33m+\u001b[0m\u001b[0mI\u001b[0m\u001b[1;33m[\u001b[0m\u001b[0mi\u001b[0m\u001b[1;33m]\u001b[0m\u001b[1;33m[\u001b[0m\u001b[1;36m2\u001b[0m\u001b[1;33m]\u001b[0m\u001b[1;33m[\u001b[0m\u001b[1;36m1\u001b[0m\u001b[1;33m]\u001b[0m\u001b[1;33m*\u001b[0m\u001b[0mq2\u001b[0m\u001b[1;33m+\u001b[0m\u001b[0mI\u001b[0m\u001b[1;33m[\u001b[0m\u001b[0mi\u001b[0m\u001b[1;33m]\u001b[0m\u001b[1;33m[\u001b[0m\u001b[1;36m2\u001b[0m\u001b[1;33m]\u001b[0m\u001b[1;33m[\u001b[0m\u001b[1;36m2\u001b[0m\u001b[1;33m]\u001b[0m\u001b[1;33m*\u001b[0m\u001b[0mq3\u001b[0m\u001b[1;33m\u001b[0m\u001b[1;33m\u001b[0m\u001b[0m\n",
      "\u001b[1;31mIndexError\u001b[0m: list index out of range"
     ]
    }
   ],
   "source": [
    "integracion_numerica_2(0.4, 30000, 250000, 8, 9)"
   ]
  },
  {
   "cell_type": "code",
   "execution_count": null,
   "metadata": {},
   "outputs": [],
   "source": []
  },
  {
   "cell_type": "code",
   "execution_count": null,
   "metadata": {},
   "outputs": [],
   "source": []
  },
  {
   "cell_type": "code",
   "execution_count": null,
   "metadata": {},
   "outputs": [],
   "source": []
  },
  {
   "cell_type": "code",
   "execution_count": null,
   "metadata": {},
   "outputs": [],
   "source": []
  },
  {
   "cell_type": "code",
   "execution_count": null,
   "metadata": {},
   "outputs": [],
   "source": []
  }
 ],
 "metadata": {
  "kernelspec": {
   "display_name": "Python 3",
   "language": "python",
   "name": "python3"
  },
  "language_info": {
   "codemirror_mode": {
    "name": "ipython",
    "version": 3
   },
   "file_extension": ".py",
   "mimetype": "text/x-python",
   "name": "python",
   "nbconvert_exporter": "python",
   "pygments_lexer": "ipython3",
   "version": "3.7.7"
  }
 },
 "nbformat": 4,
 "nbformat_minor": 4
}
